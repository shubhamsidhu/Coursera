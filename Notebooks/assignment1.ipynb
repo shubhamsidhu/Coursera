{
 "cells": [
  {
   "cell_type": "markdown",
   "id": "approved-exclusive",
   "metadata": {},
   "source": [
    "# Assignment 1\n",
    "For this assignment you are welcomed to use other regex resources such a regex \"cheat sheets\" you find on the web.\n",
    "\n"
   ]
  },
  {
   "cell_type": "markdown",
   "id": "protective-ribbon",
   "metadata": {},
   "source": [
    "Before start working on the problems, here is a small example to help you understand how to write your own answers. In short, the solution should be written within the function body given, and the final result should be returned. Then the autograder will try to call the function and validate your returned result accordingly. "
   ]
  },
  {
   "cell_type": "code",
   "execution_count": 2,
   "id": "designed-estate",
   "metadata": {},
   "outputs": [],
   "source": [
    "def example_word_count():\n",
    "    # This example question requires counting words in the example_string below.\n",
    "    example_string = \"Amy is 5 years old\"\n",
    "    \n",
    "    # YOUR CODE HERE.\n",
    "    # You should write your solution here, and return your result, you can comment out or delete the\n",
    "    # NotImplementedError below.\n",
    "    result = example_string.split(\" \")\n",
    "    return len(result)\n",
    "\n",
    "    #raise NotImplementedError()"
   ]
  },
  {
   "cell_type": "markdown",
   "id": "established-consumer",
   "metadata": {},
   "source": [
    "## Part A\n",
    "\n",
    "Find a list of all of the names in the following string using regex."
   ]
  },
  {
   "cell_type": "code",
   "execution_count": 3,
   "id": "chief-tokyo",
   "metadata": {},
   "outputs": [
    {
     "data": {
      "text/plain": [
       "['Amy', 'Mary', 'Ruth', 'Peter']"
      ]
     },
     "execution_count": 3,
     "metadata": {},
     "output_type": "execute_result"
    }
   ],
   "source": [
    "import re\n",
    "def names():\n",
    "    simple_string = \"\"\"Amy is 5 years old, and her sister Mary is 2 years old. \n",
    "    Ruth and Peter, their parents, have 3 kids.\"\"\"\n",
    "\n",
    "    # YOUR CODE HERE\n",
    "    return(re.findall(\"[A-Z][a-z]*\",simple_string))\n",
    "     #raise NotImplementedError()\n",
    "names()"
   ]
  },
  {
   "cell_type": "code",
   "execution_count": 4,
   "id": "individual-virtue",
   "metadata": {},
   "outputs": [],
   "source": [
    "assert len(names()) == 4, \"There are four names in the simple_string\"\n"
   ]
  },
  {
   "cell_type": "markdown",
   "id": "municipal-firmware",
   "metadata": {},
   "source": [
    "## Part B\n",
    "\n",
    "The dataset file in [assets/grades.txt](assets/grades.txt) contains a line separated list of people with their grade in \n",
    "a class. Create a regex to generate a list of just those students who received a B in the course."
   ]
  },
  {
   "cell_type": "code",
   "execution_count": 1,
   "id": "derived-observation",
   "metadata": {},
   "outputs": [
    {
     "data": {
      "text/plain": [
       "['Bell Kassulke',\n",
       " 'Simon Loidl',\n",
       " 'Elias Jovanovic',\n",
       " 'Hakim Botros',\n",
       " 'Emilie Lorentsen',\n",
       " 'Jake Wood',\n",
       " 'Fatemeh Akhtar',\n",
       " 'Kim Weston',\n",
       " 'Yasmin Dar',\n",
       " 'Viswamitra Upandhye',\n",
       " 'Killian Kaufman',\n",
       " 'Elwood Page',\n",
       " 'Elodie Booker',\n",
       " 'Adnan Chen',\n",
       " 'Hank Spinka',\n",
       " 'Hannah Bayer']"
      ]
     },
     "execution_count": 1,
     "metadata": {},
     "output_type": "execute_result"
    }
   ],
   "source": [
    "import re\n",
    "def grades():\n",
    "    with open (\"grades.txt\", \"r\") as file:\n",
    "        grades = file.read()\n",
    "        \n",
    "        fgrade =[]\n",
    "        pattern = '(?P<names>[\\w ]*)(: B)'\n",
    "        \n",
    "        for item in re.finditer(pattern,grades):\n",
    "            fgrade.append(item.group(\"names\"))\n",
    "            \n",
    "    return fgrade\n",
    "\n",
    "    raise NotImplementedError()\n",
    "    \n",
    "\n",
    "\n",
    "grades()  "
   ]
  },
  {
   "cell_type": "code",
   "execution_count": 2,
   "id": "copyrighted-payroll",
   "metadata": {},
   "outputs": [],
   "source": [
    "assert len(grades()) == 16\n"
   ]
  },
  {
   "cell_type": "markdown",
   "id": "disabled-final",
   "metadata": {},
   "source": [
    "## Part C\n",
    "\n",
    "Consider the standard web log file in [assets/logdata.txt](assets/logdata.txt). This file records the access a user makes when visiting a web page (like this one!). Each line of the log has the following items:\n",
    "* a host (e.g., '146.204.224.152') \n",
    "* a user_name (e.g., 'feest6811' **note: sometimes the user name is missing! In this case, use '-' as the value for the username.**)\n",
    "* the time a request was made (e.g., '21/Jun/2019:15:45:24 -0700')\n",
    "* the post request type (e.g., 'POST /incentivize HTTP/1.1' **note: not everything is a POST!**)\n",
    "\n",
    "Your task is to convert this into a list of dictionaries, where each dictionary looks like the following:\n",
    "```\n",
    "example_dict = {\"host\":\"146.204.224.152\", \n",
    "                \"user_name\":\"feest6811\", \n",
    "                \"time\":\"21/Jun/2019:15:45:24 -0700\",\n",
    "                \"request\":\"POST /incentivize HTTP/1.1\"}\n",
    "```"
   ]
  },
  {
   "cell_type": "code",
   "execution_count": 3,
   "id": "sublime-thong",
   "metadata": {},
   "outputs": [
    {
     "name": "stdout",
     "output_type": "stream",
     "text": [
      "979\n"
     ]
    }
   ],
   "source": [
    "import re\n",
    "def logs():\n",
    "    with open(\"logdata.txt\", \"r\") as file:\n",
    "        logdata = file.read()\n",
    "    \n",
    "    # YOUR CODE HERE\n",
    "    pattern = '(?P<host>(?:\\d+\\.){3}\\d+)\\s+(?:\\S+)\\s+(?P<user_name>\\S+)\\s+\\[(?P<time>[-+\\w\\s:/]+)\\]\\s+\"(?P<request>.+?.+?)\"'\n",
    "\n",
    "    flist=[]\n",
    "    for item in re.finditer(pattern,logdata,re.VERBOSE):\n",
    "            flist.append(item.groupdict())\n",
    "        \n",
    "    return flist   \n",
    "print(len(logs()))"
   ]
  },
  {
   "cell_type": "code",
   "execution_count": 12,
   "id": "worthy-driver",
   "metadata": {},
   "outputs": [],
   "source": [
    "assert len(logs()) == 979\n",
    "\n",
    "one_item={'host': '146.204.224.152',\n",
    "  'user_name': 'feest6811',\n",
    "  'time': '21/Jun/2019:15:45:24 -0700',\n",
    "  'request': 'POST /incentivize HTTP/1.1'}\n",
    "assert one_item in logs(), \"Sorry, this item should be in the log results, check your formating\"\n"
   ]
  },
  {
   "cell_type": "code",
   "execution_count": null,
   "id": "characteristic-count",
   "metadata": {},
   "outputs": [],
   "source": []
  }
 ],
 "metadata": {
  "kernelspec": {
   "display_name": "Python 3",
   "language": "python",
   "name": "python3"
  },
  "language_info": {
   "codemirror_mode": {
    "name": "ipython",
    "version": 3
   },
   "file_extension": ".py",
   "mimetype": "text/x-python",
   "name": "python",
   "nbconvert_exporter": "python",
   "pygments_lexer": "ipython3",
   "version": "3.8.8"
  }
 },
 "nbformat": 4,
 "nbformat_minor": 5
}
