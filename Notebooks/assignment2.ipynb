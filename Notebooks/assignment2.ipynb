{
 "cells": [
  {
   "cell_type": "markdown",
   "id": "numerous-seventh",
   "metadata": {},
   "source": [
    "# Assignment 2\n",
    "For this assignment you'll be looking at 2017 data on immunizations from the CDC. Your datafile for this assignment is in [assets/NISPUF17.csv](assets/NISPUF17.csv). A data users guide for this, which you'll need to map the variables in the data to the questions being asked, is available at [assets/NIS-PUF17-DUG.pdf](assets/NIS-PUF17-DUG.pdf). **Note: you may have to go to your Jupyter tree (click on the Coursera image) and navigate to the assignment 2 assets folder to see this PDF file).**"
   ]
  },
  {
   "cell_type": "markdown",
   "id": "greater-anaheim",
   "metadata": {},
   "source": [
    "## Question 1\n",
    "Write a function called `proportion_of_education` which returns the proportion of children in the dataset who had a mother with the education levels equal to less than high school (<12), high school (12), more than high school but not a college graduate (>12) and college degree.\n",
    "\n",
    "*This function should return a dictionary in the form of (use the correct numbers, do not round numbers):* \n",
    "```\n",
    "    {\"less than high school\":0.2,\n",
    "    \"high school\":0.4,\n",
    "    \"more than high school but not college\":0.2,\n",
    "    \"college\":0.2}\n",
    "```\n"
   ]
  },
  {
   "cell_type": "code",
   "execution_count": 26,
   "id": "developed-vehicle",
   "metadata": {},
   "outputs": [
    {
     "data": {
      "text/plain": [
       "{'less than high school': 0.10202002459160373,\n",
       " 'high school': 0.172352011241876,\n",
       " 'more than high school but not college': 0.24588090637625154,\n",
       " 'college': 0.47974705779026877}"
      ]
     },
     "execution_count": 26,
     "metadata": {},
     "output_type": "execute_result"
    }
   ],
   "source": [
    "import pandas as pd\n",
    "\n",
    "def proportion_of_education():\n",
    "    df = pd.read_csv('NISPUF17.csv',index_col=0)\n",
    "    ndf= df[df['YEAR']==2017]\n",
    "    # your code goes here\n",
    "    COUNT =ndf[\"EDUC1\"].groupby(ndf['EDUC1']).count()\n",
    "    #print(COUNT)\n",
    "    \n",
    "    #lths -> less than high school ,hs -> high school , mths -> more than high school but not college , clg -> college\n",
    "    lths,hs,mths,clg = COUNT.loc[1], COUNT.loc[2], COUNT.loc[3], COUNT.loc[4]\n",
    "    total = lths + hs + mths + clg\n",
    "\n",
    "    result = {\"less than high school\":lths/total,\n",
    "        \"high school\":hs/total,\n",
    "        \"more than high school but not college\":mths/total,\n",
    "        \"college\":clg/total}\n",
    "    # YOUR CODE HERE\n",
    "    return result\n",
    "    #raise NotImplementedError()\n",
    "proportion_of_education()\n"
   ]
  },
  {
   "cell_type": "code",
   "execution_count": null,
   "id": "accredited-dance",
   "metadata": {},
   "outputs": [],
   "source": []
  },
  {
   "cell_type": "code",
   "execution_count": 2,
   "id": "modern-aquatic",
   "metadata": {},
   "outputs": [],
   "source": [
    "assert type(proportion_of_education())==type({}), \"You must return a dictionary.\"\n",
    "assert len(proportion_of_education()) == 4,headou have not returned a dictionary with four items in it.\"\n",
    "assert \"less than high school\" in proportion_of_education().keys(), \"You have not returned a dictionary with the correct keys.\"\n",
    "assert \"high school\" in proportion_of_education().keys(), \"You have not returned a dictionary with the correct keys.\"\n",
    "assert \"more than high school but not college\" in proportion_of_education().keys(), \"You have not returned a dictionary with the correct keys.\"\n",
    "assert \"college\" in proportion_of_education().keys(), \"You have not returned a dictionary with the correct keys.\"\n"
   ]
  },
  {
   "cell_type": "markdown",
   "id": "quantitative-password",
   "metadata": {},
   "source": [
    "## Question 2\n",
    "\n",
    "Let's explore the relationship between being fed breastmilk as a child and getting a seasonal influenza vaccine from a healthcare provider. Return a tuple of the average number of influenza vaccines for those children we know received breastmilk as a child and those who know did not.\n",
    "\n",
    "*This function should return a tuple in the form (use the correct numbers:*\n",
    "```\n",
    "(2.5, 0.1)\n",
    "```"
   ]
  },
  {
   "cell_type": "code",
   "execution_count": 41,
   "id": "juvenile-luxembourg",
   "metadata": {},
   "outputs": [
    {
     "data": {
      "text/plain": [
       "(1.8799187420058687, 1.5963945918878317)"
      ]
     },
     "execution_count": 41,
     "metadata": {},
     "output_type": "execute_result"
    }
   ],
   "source": [
    "def average_influenza_doses():\n",
    "    \n",
    "    # YOUR CODE HERE\n",
    "    df = pd.read_csv('NISPUF17.csv',index_col=0)\n",
    "    ndf= df[df['YEAR']==2017]\n",
    "    \n",
    "    df_mean = ndf[['P_NUMFLU','CBF_01']].groupby('CBF_01').mean()\n",
    "     \n",
    "    return (df_mean.loc[1].item(),df_mean.loc[2].item())\n",
    "    raise NotImplementedError()\n",
    "average_influenza_doses()    "
   ]
  },
  {
   "cell_type": "code",
   "execution_count": null,
   "id": "electronic-ecology",
   "metadata": {},
   "outputs": [],
   "source": []
  },
  {
   "cell_type": "code",
   "execution_count": 42,
   "id": "dedicated-savage",
   "metadata": {},
   "outputs": [],
   "source": [
    "assert len(average_influenza_doses())==2, \"Return two values in a tuple, the first for yes and the second for no.\"\n"
   ]
  },
  {
   "cell_type": "markdown",
   "id": "juvenile-auditor",
   "metadata": {},
   "source": [
    "## Question 3\n",
    "It would be interesting to see if there is any evidence of a link between vaccine effectiveness and sex of the child. Calculate the ratio of the number of children who contracted chickenpox but were vaccinated against it (at least one varicella dose) versus those who were vaccinated but did not contract chicken pox. Return results by sex. \n",
    "\n",
    "*This function should return a dictionary in the form of (use the correct numbers):* \n",
    "```\n",
    "    {\"male\":0.2,\n",
    "    \"female\":0.4}\n",
    "```\n",
    "\n",
    "Note: To aid in verification, the `chickenpox_by_sex()['female']` value the autograder is looking for starts with the digits `0.0077`."
   ]
  },
  {
   "cell_type": "code",
   "execution_count": 6,
   "id": "experimental-myanmar",
   "metadata": {},
   "outputs": [
    {
     "data": {
      "text/plain": [
       "{'male': 0.009675583380762664, 'female': 0.0077918259335489565}"
      ]
     },
     "execution_count": 6,
     "metadata": {},
     "output_type": "execute_result"
    }
   ],
   "source": [
    "def chickenpox_by_sex():\n",
    "    \n",
    "    df = pd.read_csv('NISPUF17.csv',index_col=0)\n",
    "    ndf= df[df['YEAR']==2017]\n",
    "    \n",
    "    \n",
    "    fndf = ndf[[\"SEX\",\"P_NUMVRC\",\"HAD_CPOX\"]].dropna()\n",
    "\n",
    "    #number of male person who has cpox and vaccinated \n",
    "\n",
    "    had_cpox_vac_m   =   fndf.where((ndf[\"SEX\"]==1) & (ndf[\"P_NUMVRC\"]!=0) & (ndf[\"HAD_CPOX\"]==1))\n",
    "    m_had =   len(had_cpox_vac_m.dropna())\n",
    "\n",
    "\n",
    "    ##number of male person who didn't have cpox and vaccinated \n",
    "    not_had_cpox_vac_m = fndf.where((ndf[\"SEX\"]==1) & (ndf[\"P_NUMVRC\"]!=0) & (ndf[\"HAD_CPOX\"]==2))\n",
    "    m_n_had = len(not_had_cpox_vac_m.dropna())\n",
    "\n",
    "\n",
    "    #number of female person who has cpox and vaccinated \n",
    "    had_cpox_vac_m = fndf.where((ndf[\"SEX\"]==2) & (ndf[\"P_NUMVRC\"]!=0) & (ndf[\"HAD_CPOX\"]==1))\n",
    "    f_had = len(had_cpox_vac_m.dropna())\n",
    " \n",
    "\n",
    "    #number of female person who didn't have  cpox and vaccinated \n",
    "    not_had_cpox_vac_m = fndf.where((ndf[\"SEX\"]==2) & (ndf[\"P_NUMVRC\"]!=0) & (ndf[\"HAD_CPOX\"]==2))\n",
    "    f_n_had = len(not_had_cpox_vac_m.dropna())\n",
    "\n",
    "    r_m = m_had / m_n_had\n",
    "\n",
    "    r_f = f_had / f_n_had \n",
    "    \n",
    "    final =  {\"male\": r_m , \"female\": r_f}\n",
    "    #print (len(final))\n",
    "    # YOUR CODE HERE\n",
    "    return final\n",
    "    raise NotImplementedError()\n",
    "    \n",
    "chickenpox_by_sex()"
   ]
  },
  {
   "cell_type": "code",
   "execution_count": null,
   "id": "colonial-produce",
   "metadata": {},
   "outputs": [],
   "source": []
  },
  {
   "cell_type": "code",
   "execution_count": 7,
   "id": "geological-mercury",
   "metadata": {},
   "outputs": [],
   "source": [
    "assert len(chickenpox_by_sex())==2, \"Return a dictionary with two items, the first for males and the second for females.\"\n"
   ]
  },
  {
   "cell_type": "markdown",
   "id": "facial-exemption",
   "metadata": {},
   "source": [
    "## Question 4\n",
    "A correlation is a statistical relationship between two variables. If we wanted to know if vaccines work, we might look at the correlation between the use of the vaccine and whether it results in prevention of the infection or disease [1]. In this question, you are to see if there is a correlation between having had the chicken pox and the number of chickenpox vaccine doses given (varicella).\n",
    "\n",
    "Some notes on interpreting the answer. The `had_chickenpox_column` is either `1` (for yes) or `2` (for no), and the `num_chickenpox_vaccine_column` is the number of doses a child has been given of the varicella vaccine. A positive correlation (e.g., `corr > 0`) means that an increase in `had_chickenpox_column` (which means more no’s) would also increase the values of `num_chickenpox_vaccine_column` (which means more doses of vaccine). If there is a negative correlation (e.g., `corr < 0`), it indicates that having had chickenpox is related to an increase in the number of vaccine doses.\n",
    "\n",
    "Also, `pval` is the probability that we observe a correlation between `had_chickenpox_column` and `num_chickenpox_vaccine_column` which is greater than or equal to a particular value occurred by chance. A small `pval` means that the observed correlation is highly unlikely to occur by chance. In this case, `pval` should be very small (will end in `e-18` indicating a very small number).\n",
    "\n",
    "[1] This isn’t really the full picture, since we are not looking at when the dose was given. It’s possible that children had chickenpox and then their parents went to get them the vaccine. Does this dataset have the data we would need to investigate the timing of the dose?"
   ]
  },
  {
   "cell_type": "code",
   "execution_count": 8,
   "id": "subject-hollow",
   "metadata": {},
   "outputs": [
    {
     "data": {
      "text/plain": [
       "0.07044873460147984"
      ]
     },
     "execution_count": 8,
     "metadata": {},
     "output_type": "execute_result"
    }
   ],
   "source": [
    "def corr_chickenpox():\n",
    "    import scipy.stats as stats\n",
    "    import numpy as np\n",
    "    import pandas as pd\n",
    "    \n",
    "    \n",
    "    # YOUR CODE HERE\n",
    "    df = pd.read_csv('NISPUF17.csv',index_col=0)\n",
    "    ndf= df[df['YEAR']==2017]\n",
    "    \n",
    "    \n",
    "    zndf =  ndf[[\"P_NUMVRC\",\"HAD_CPOX\"]].where(ndf[\"HAD_CPOX\"]!=77).dropna()\n",
    "    corr, pval=stats.pearsonr(zndf[\"HAD_CPOX\"],zndf[\"P_NUMVRC\"])\n",
    "\n",
    "    return corr\n",
    "    raise NotImplementedError()\n",
    "    \n",
    "corr_chickenpox()"
   ]
  },
  {
   "cell_type": "code",
   "execution_count": 9,
   "id": "challenging-groove",
   "metadata": {},
   "outputs": [],
   "source": [
    "assert -1<=corr_chickenpox()<=1, \"You must return a float number between -1.0 and 1.0.\"\n"
   ]
  },
  {
   "cell_type": "code",
   "execution_count": null,
   "id": "final-reform",
   "metadata": {},
   "outputs": [],
   "source": []
  }
 ],
 "metadata": {
  "kernelspec": {
   "display_name": "Python 3",
   "language": "python",
   "name": "python3"
  },
  "language_info": {
   "codemirror_mode": {
    "name": "ipython",
    "version": 3
   },
   "file_extension": ".py",
   "mimetype": "text/x-python",
   "name": "python",
   "nbconvert_exporter": "python",
   "pygments_lexer": "ipython3",
   "version": "3.8.8"
  }
 },
 "nbformat": 4,
 "nbformat_minor": 5
}
