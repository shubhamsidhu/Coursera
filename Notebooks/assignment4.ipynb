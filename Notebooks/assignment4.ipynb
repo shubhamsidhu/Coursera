{
 "cells": [
  {
   "cell_type": "markdown",
   "id": "expensive-player",
   "metadata": {},
   "source": [
    "# Assignment 4\n",
    "## Description\n",
    "In this assignment you must read in a file of metropolitan regions and associated sports teams from [assets/wikipedia_data.html](assets/wikipedia_data.html) and answer some questions about each metropolitan region. Each of these regions may have one or more teams from the \"Big 4\": NFL (football, in [assets/nfl.csv](assets/nfl.csv)), MLB (baseball, in [assets/mlb.csv](assets/mlb.csv)), NBA (basketball, in [assets/nba.csv](assets/nba.csv) or NHL (hockey, in [assets/nhl.csv](assets/nhl.csv)). Please keep in mind that all questions are from the perspective of the metropolitan region, and that this file is the \"source of authority\" for the location of a given sports team. Thus teams which are commonly known by a different area (e.g. \"Oakland Raiders\") need to be mapped into the metropolitan region given (e.g. San Francisco Bay Area). This will require some human data understanding outside of the data you've been given (e.g. you will have to hand-code some names, and might need to google to find out where teams are)!\n",
    "\n",
    "For each sport I would like you to answer the question: **what is the win/loss ratio's correlation with the population of the city it is in?** Win/Loss ratio refers to the number of wins over the number of wins plus the number of losses. Remember that to calculate the correlation with [`pearsonr`](https://docs.scipy.org/doc/scipy/reference/generated/scipy.stats.pearsonr.html), so you are going to send in two ordered lists of values, the populations from the wikipedia_data.html file and the win/loss ratio for a given sport in the same order. Average the win/loss ratios for those cities which have multiple teams of a single sport. Each sport is worth an equal amount in this assignment (20%\\*4=80%) of the grade for this assignment. You should only use data **from year 2018** for your analysis -- this is important!\n",
    "\n",
    "## Notes\n",
    "\n",
    "1. Do not include data about the MLS or CFL in any of the work you are doing, we're only interested in the Big 4 in this assignment.\n",
    "2. I highly suggest that you first tackle the four correlation questions in order, as they are all similar and worth the majority of grades for this assignment. This is by design!\n",
    "3. It's fair game to talk with peers about high level strategy as well as the relationship between metropolitan areas and sports teams. However, do not post code solving aspects of the assignment (including such as dictionaries mapping areas to teams, or regexes which will clean up names).\n",
    "4. There may be more teams than the assert statements test, remember to collapse multiple teams in one city into a single value!"
   ]
  },
  {
   "cell_type": "markdown",
   "id": "yellow-temperature",
   "metadata": {},
   "source": [
    "## Question 1\n",
    "For this question, calculate the win/loss ratio's correlation with the population of the city it is in for the **NHL** using **2018** data."
   ]
  },
  {
   "cell_type": "code",
   "execution_count": 8,
   "id": "interior-timeline",
   "metadata": {},
   "outputs": [
    {
     "name": "stderr",
     "output_type": "stream",
     "text": [
      "<ipython-input-8-4a4c06d17f5c>:16: FutureWarning: The default value of regex will change from True to False in a future version.\n",
      "  cities_f[\"NHL\"] = cities_f[\"NHL\"].str.replace(r\"\\[.*\\]\", \"\")\n"
     ]
    },
    {
     "data": {
      "text/plain": [
       "0.012308996455744264"
      ]
     },
     "execution_count": 8,
     "metadata": {},
     "output_type": "execute_result"
    }
   ],
   "source": [
    "import pandas as pd\n",
    "import numpy as np\n",
    "import scipy.stats as stats\n",
    "import re\n",
    "\n",
    "nhl_df=pd.read_csv(\"nhl.csv\")\n",
    "cities=pd.read_html(\"wikipedia_data.html\")[1]\n",
    "cities=cities.iloc[:-1,[0,3,5,6,7,8]]\n",
    "\n",
    "def nhl_correlation():\n",
    "    \n",
    "    global new_n\n",
    "\n",
    "    #nhl_df[nhl_df[\"year\"]==2018]\n",
    "    cities_f = cities.rename(columns={\"Metropolitan area\": \"city\",\"Population (2016 est.)[8]\":\"Population\"})\n",
    "    cities_f[\"NHL\"] = cities_f[\"NHL\"].str.replace(r\"\\[.*\\]\", \"\")\n",
    "    #cities_f = cities_f.set_index(\"city\")\n",
    "    cities_f = cities_f.rename(columns = {\"NHL\":\"team_n\"})\n",
    "\n",
    "\n",
    "    nhl_df[\"team_n\"] = nhl_df[\"team\"].apply(lambda x : x.rstrip(\"*\").strip()).apply(lambda x : x.split()[-1])\n",
    "    nhl_f           = nhl_df.set_index(\"team_n\").rename(index = {\"Knights\":\"Golden Knights\",\"Rangers\":\"RangersIslandersDevils\",\n",
    "                                                   \"Islanders\":\"RangersIslandersDevils\",\"Ducks\":\"KingsDucks\",\"Devils\":\"RangersIslandersDevils\",\n",
    "                                                   \"Jackets\":\"Blue Jackets\",\"Leafs\":\"Maple Leafs\",\"Kings\":\"KingsDucks\",\n",
    "                                                   \"Wings\":\"Red Wings\"})\n",
    "    nhl_f    = nhl_f.reset_index()\n",
    "    new_data = nhl_f[nhl_f[\"year\"]==2018][[\"team_n\",\"W\",\"L\"]].drop([0,9,18,26],axis = 0)\n",
    "\n",
    "    new_data = new_data.astype({\"W\": int ,\"L\": int})\n",
    "    nhl_df1  = new_data.groupby(\"team_n\").sum().reset_index()\n",
    "\n",
    "    new_n      = pd.merge(nhl_df1,cities_f, on =\"team_n\", how = \"inner\" )\n",
    "    cols     = [\"city\",\"Population\",\"W\",\"L\"]\n",
    "    #new[cols]\n",
    "    #new[\"ratio\"] = \n",
    "    new_n[\"ratio\"] = new_n[\"W\"]/(new_n[\"W\"]+new_n[\"L\"])\n",
    "    #new\n",
    "    #nhl_f[nhl_f[\"year\"]==2018]\n",
    "    population_by_region = new_n[\"Population\"].apply(lambda x : float(x)) # pass in metropolitan area population from cities\n",
    "    win_loss_by_region = new_n[\"ratio\"] # pass in win/loss ratio from nba_df in the same order as cities[\"Metropolitan area\"]\n",
    "\n",
    "\n",
    "    \n",
    "    \n",
    "    # YOUR CODE HERE\n",
    "    \n",
    "    \n",
    "    #population_by_region = [] # pass in metropolitan area population from cities\n",
    "    #win_loss_by_region = [] # pass in win/loss ratio from nhl_df in the same order as cities[\"Metropolitan area\"]\n",
    "\n",
    "    assert len(population_by_region) == len(win_loss_by_region), \"Q1: Your lists must be the same length\"\n",
    "    assert len(population_by_region) == 28, \"Q1: There should be 28 teams being analysed for NHL\"\n",
    "    \n",
    "    return stats.pearsonr(population_by_region, win_loss_by_region)[0]\n",
    "    raise NotImplementedError()\n",
    "\n",
    "\n",
    "nhl_correlation()"
   ]
  },
  {
   "cell_type": "markdown",
   "id": "quiet-copyright",
   "metadata": {},
   "source": [
    "## Question 2\n",
    "For this question, calculate the win/loss ratio's correlation with the population of the city it is in for the **NBA** using **2018** data."
   ]
  },
  {
   "cell_type": "code",
   "execution_count": 10,
   "id": "rubber-sweden",
   "metadata": {},
   "outputs": [
    {
     "name": "stderr",
     "output_type": "stream",
     "text": [
      "<ipython-input-10-fd95073e42e7>:14: FutureWarning: The default value of regex will change from True to False in a future version.\n",
      "  cities_2[\"NBA\"]  = cities_2[\"NBA\"].str.replace(r\"\\[.*\\]\", \"\")\n",
      "<ipython-input-10-fd95073e42e7>:20: FutureWarning: The default value of regex will change from True to False in a future version.\n",
      "  nba_df_2[\"team_n\"] = nba_df_2[\"team\"].str.replace(r\"\\(.*\\)\", \"\").apply(lambda x : x.strip().rstrip(\"*\").split()[-1])\n",
      "<ipython-input-10-fd95073e42e7>:20: SettingWithCopyWarning: \n",
      "A value is trying to be set on a copy of a slice from a DataFrame.\n",
      "Try using .loc[row_indexer,col_indexer] = value instead\n",
      "\n",
      "See the caveats in the documentation: https://pandas.pydata.org/pandas-docs/stable/user_guide/indexing.html#returning-a-view-versus-a-copy\n",
      "  nba_df_2[\"team_n\"] = nba_df_2[\"team\"].str.replace(r\"\\(.*\\)\", \"\").apply(lambda x : x.strip().rstrip(\"*\").split()[-1])\n"
     ]
    },
    {
     "data": {
      "text/plain": [
       "-0.17657160252844611"
      ]
     },
     "execution_count": 10,
     "metadata": {},
     "output_type": "execute_result"
    }
   ],
   "source": [
    "import pandas as pd\n",
    "import numpy as np\n",
    "import scipy.stats as stats\n",
    "import re\n",
    "\n",
    "nba_df=pd.read_csv(\"nba.csv\")\n",
    "cities=pd.read_html(\"wikipedia_data.html\")[1]\n",
    "cities=cities.iloc[:-1,[0,3,5,6,7,8]]\n",
    "\n",
    "def nba_correlation():\n",
    "    global final_2\n",
    "    \n",
    "    cities_2 = cities \n",
    "    cities_2[\"NBA\"]  = cities_2[\"NBA\"].str.replace(r\"\\[.*\\]\", \"\")\n",
    "\n",
    "    nba_df_2 = nba_df[nba_df[\"year\"]==2018] \n",
    "    #nba_df_2\n",
    "    cities_2 = cities_2.rename(columns = { \"NBA\": \"team_n\"})\n",
    "    \n",
    "    nba_df_2[\"team_n\"] = nba_df_2[\"team\"].str.replace(r\"\\(.*\\)\", \"\").apply(lambda x : x.strip().rstrip(\"*\").split()[-1])\n",
    "\n",
    "    nba_df_2 = nba_df_2.set_index(\"team_n\").rename(index = {\"Knicks\":\"KnicksNets\",\"Nets\":\"KnicksNets\",\n",
    "                                                            \"Clippers\":\"LakersClippers\",\"Lakers\":\"LakersClippers\",\n",
    "                                                            \"Blazers\":\"Trail Blazers\"})\n",
    "    nba_df_2 = nba_df_2.astype({\"W\": int ,\"L\": int})\n",
    "    nba_df_f = nba_df_2.reset_index()[[\"team_n\",\"W\",\"L\"]].groupby(\"team_n\").sum()\n",
    "    nba_df_f = nba_df_f.reset_index()\n",
    "    \n",
    "    nba_df_f[\"ratio\"] = nba_df_f[\"W\"]/(nba_df_f[\"W\"]+nba_df_f[\"L\"])\n",
    "    f_2_final      = pd.merge(nba_df_f ,cities_2, on =\"team_n\", how = \"inner\" )\n",
    "    f_2_final      = f_2_final.rename(columns = {\"Population (2016 est.)[8]\":\"Population\"})\n",
    "    f_2_final      =f_2_final.astype({\"Population\": int })\n",
    "    final_2        = f_2_final \n",
    "\n",
    "    #f_2_final  \n",
    "    population_by_region = f_2_final[\"Population\"]\n",
    "    win_loss_by_region   = f_2_final[\"ratio\"]\n",
    "\n",
    "    return stats.pearsonr(population_by_region, win_loss_by_region)[0]\n",
    "\n",
    "    # YOUR CODE HERE\n",
    "    raise NotImplementedError()\n",
    "    \n",
    "    population_by_region = [] # pass in metropolitan area population from cities\n",
    "    win_loss_by_region = [] # pass in win/loss ratio from nba_df in the same order as cities[\"Metropolitan area\"]\n",
    "\n",
    "    assert len(population_by_region) == len(win_loss_by_region), \"Q2: Your lists must be the same length\"\n",
    "    assert len(population_by_region) == 28, \"Q2: There should be 28 teams being analysed for NBA\"\n",
    "\n",
    "    \n",
    "nba_correlation() \n",
    "    "
   ]
  },
  {
   "cell_type": "markdown",
   "id": "boring-victory",
   "metadata": {},
   "source": [
    "## Question 3\n",
    "For this question, calculate the win/loss ratio's correlation with the population of the city it is in for the **MLB** using **2018** data."
   ]
  },
  {
   "cell_type": "code",
   "execution_count": 11,
   "id": "promising-honolulu",
   "metadata": {},
   "outputs": [
    {
     "name": "stderr",
     "output_type": "stream",
     "text": [
      "<ipython-input-11-b90b8b009ca4>:13: FutureWarning: The default value of regex will change from True to False in a future version.\n",
      "  cities_3[\"MLB\"] = cities_3[\"MLB\"].str.replace(r\"\\[.*\\]\", \"\")\n"
     ]
    },
    {
     "data": {
      "text/plain": [
       "0.15052304487104848"
      ]
     },
     "execution_count": 11,
     "metadata": {},
     "output_type": "execute_result"
    }
   ],
   "source": [
    "import pandas as pd\n",
    "import numpy as np\n",
    "import scipy.stats as stats\n",
    "import re\n",
    "\n",
    "mlb_df=pd.read_csv(\"mlb.csv\")\n",
    "cities=pd.read_html(\"wikipedia_data.html\")[1]\n",
    "cities=cities.iloc[:-1,[0,3,5,6,7,8]]\n",
    "\n",
    "def mlb_correlation(): \n",
    "    global final_3\n",
    "    cities_3 = cities\n",
    "    cities_3[\"MLB\"] = cities_3[\"MLB\"].str.replace(r\"\\[.*\\]\", \"\")\n",
    "    cities_3   = cities_3.rename(columns = {\"Population (2016 est.)[8]\": \"Population\",\"MLB\":\"team_n\"})\n",
    "    \n",
    "\n",
    "    mlb_df_f = mlb_df[mlb_df[\"year\"]==2018]\n",
    "    mlb_df_f  = mlb_df_f.set_index(\"team\").rename(index = { \"Boston Red Sox\":\"Boston RedSox\"}).reset_index()\n",
    "    mlb_df_f[\"team_n\"] = mlb_df_f[\"team\"].apply(lambda x : x.strip().split()[-1])\n",
    "    mlb_df_f  = mlb_df_f.set_index(\"team_n\").rename(index = {\"Yankees\":\"YankeesMets\",\"Mets\":\"YankeesMets\",\n",
    "                                                             \"Dodgers\":\"DodgersAngels\",\"Angels\":\"DodgersAngels\",\n",
    "                                                             \"Giants\":\"GiantsAthletics\",\"RedSox\":\"Red Sox\",\"Sox\":\"CubsWhite Sox\",\n",
    "                                                             \"Athletics\":\"GiantsAthletics\",\"Jays\":\"Blue Jays\",\"Cubs\":\"CubsWhite Sox\"})\n",
    "    mlb_df_f = mlb_df_f.astype({\"W\": int ,\"L\": int})\n",
    "    mlb_df_f_2 = mlb_df_f.reset_index()[[\"team_n\",\"W\",\"L\"]].groupby(\"team_n\").sum().reset_index()\n",
    "    mlb_df_f_2[\"ratio\"]  = mlb_df_f_2[\"W\"]/(mlb_df_f_2[\"W\"]+mlb_df_f_2[\"L\"])\n",
    "    \n",
    "    final_3 = pd.merge(mlb_df_f_2 , cities_3, how =\"inner\",on = \"team_n\")\n",
    "    final_3 = final_3.astype({\"Population\" : int })\n",
    "    \n",
    "    population_by_region = final_3[\"Population\"]\n",
    "    win_loss_by_region   = final_3[\"ratio\"]\n",
    "    \n",
    "    return stats.pearsonr(population_by_region, win_loss_by_region)[0]\n",
    "    \n",
    "    # YOUR CODE HERE\n",
    "    raise NotImplementedError()\n",
    "    \n",
    "    population_by_region = [] # pass in metropolitan area population from cities\n",
    "    win_loss_by_region = [] # pass in win/loss ratio from mlb_df in the same order as cities[\"Metropolitan area\"]\n",
    "\n",
    "    assert len(population_by_region) == len(win_loss_by_region), \"Q3: Your lists must be the same length\"\n",
    "    assert len(population_by_region) == 26, \"Q3: There should be 26 teams being analysed for MLB\"\n",
    "\n",
    "    #return stats.pearsonr(population_by_region, win_loss_by_region)\n",
    "mlb_correlation()\n",
    "    \n",
    "    "
   ]
  },
  {
   "cell_type": "markdown",
   "id": "southern-standard",
   "metadata": {},
   "source": [
    "## Question 4\n",
    "For this question, calculate the win/loss ratio's correlation with the population of the city it is in for the **NFL** using **2018** data."
   ]
  },
  {
   "cell_type": "code",
   "execution_count": 12,
   "id": "golden-waste",
   "metadata": {},
   "outputs": [
    {
     "name": "stderr",
     "output_type": "stream",
     "text": [
      "<ipython-input-12-00794eabb580>:14: FutureWarning: The default value of regex will change from True to False in a future version.\n",
      "  cities_4[\"NFL\"] = cities_4[\"NFL\"].str.replace(r\"\\[.*\\]\", \"\")\n"
     ]
    },
    {
     "data": {
      "text/plain": [
       "0.004922112149349428"
      ]
     },
     "execution_count": 12,
     "metadata": {},
     "output_type": "execute_result"
    }
   ],
   "source": [
    "import pandas as pd\n",
    "import numpy as np\n",
    "import scipy.stats as stats\n",
    "import re\n",
    "\n",
    "nfl_df=pd.read_csv(\"nfl.csv\")\n",
    "cities=pd.read_html(\"wikipedia_data.html\")[1]\n",
    "cities=cities.iloc[:-1,[0,3,5,6,7,8]]\n",
    "\n",
    "def nfl_correlation(): \n",
    "    global final_4\n",
    "    \n",
    "    cities_4 = cities\n",
    "    cities_4[\"NFL\"] = cities_4[\"NFL\"].str.replace(r\"\\[.*\\]\", \"\")\n",
    "    cities_4 = cities_4.rename(columns = {\"Population (2016 est.)[8]\":\"Population\",\"NFL\":\"team_n\"})\n",
    "    \n",
    "    \n",
    "    nfl_df_n = nfl_df[nfl_df[\"year\"]==2018].drop([0,5,10,15,20,25,30,35],axis = 0)\n",
    "    nfl_df_n[\"team_n\"] = nfl_df_n[\"team\"].apply(lambda x : x.strip().rstrip(\"*\").rstrip(\"+\").split()[-1])\n",
    "    nfl_df_n = nfl_df_n.set_index(\"team_n\").rename(index = {\"Giants\":\"GiantsJets\",\"Jets\":\"GiantsJets\",\"Rams\":\"RamsChargers\",\n",
    "                                                            \"Chargers\":\"RamsChargers\",\"49ers\":\"49ersRaiders\",\n",
    "                                                            \"Raiders\":\"49ersRaiders\"}).reset_index()\n",
    "    nfl_df_n = nfl_df_n.astype({\"W\": int,\"L\":int})\n",
    "    nfl_df_f = nfl_df_n[[\"team_n\",\"W\",\"L\"]].groupby(\"team_n\").sum()\n",
    "    #type(nfl_df_n.iloc[0][\"W\"])\n",
    "    nfl_df_f[\"ratio\"] = nfl_df_f[\"W\"]/(nfl_df_f[\"W\"] + nfl_df_f[\"L\"])\n",
    "    \n",
    "    final_4 = pd.merge(nfl_df_f,cities_4 , how = \"inner\",on = \"team_n\")\n",
    "    final_4 = final_4.astype({\"Population\": int})\n",
    "    population_by_region = final_4[\"Population\"]# pass in metropolitan area population from cities\n",
    "    win_loss_by_region = final_4[\"ratio\"]  # pass in win/loss ratio from nfl_df in the same order as cities[\"Metropolitan area\"]\n",
    "\n",
    "    return stats.pearsonr(population_by_region, win_loss_by_region)[0]    \n",
    "    \n",
    "    # YOUR CODE HERE\n",
    "    raise NotImplementedError()\n",
    "    \n",
    "\n",
    "    assert len(population_by_region) == len(win_loss_by_region), \"Q4: Your lists must be the same length\"\n",
    "    assert len(population_by_region) == 29, \"Q4: There should be 29 teams being analysed for NFL\"\n",
    "\n",
    "    \n",
    "nfl_correlation()"
   ]
  },
  {
   "cell_type": "markdown",
   "id": "little-wisdom",
   "metadata": {},
   "source": [
    "## Question 5\n",
    "In this question I would like you to explore the hypothesis that **given that an area has two sports teams in different sports, those teams will perform the same within their respective sports**. How I would like to see this explored is with a series of paired t-tests (so use [`ttest_rel`](https://docs.scipy.org/doc/scipy/reference/generated/scipy.stats.ttest_rel.html)) between all pairs of sports. Are there any sports where we can reject the null hypothesis? Again, average values where a sport has multiple teams in one region. Remember, you will only be including, for each sport, cities which have teams engaged in that sport, drop others as appropriate. This question is worth 20% of the grade for this assignment."
   ]
  },
  {
   "cell_type": "code",
   "execution_count": 13,
   "id": "armed-consent",
   "metadata": {},
   "outputs": [
    {
     "data": {
      "text/html": [
       "<div>\n",
       "<style scoped>\n",
       "    .dataframe tbody tr th:only-of-type {\n",
       "        vertical-align: middle;\n",
       "    }\n",
       "\n",
       "    .dataframe tbody tr th {\n",
       "        vertical-align: top;\n",
       "    }\n",
       "\n",
       "    .dataframe thead th {\n",
       "        text-align: right;\n",
       "    }\n",
       "</style>\n",
       "<table border=\"1\" class=\"dataframe\">\n",
       "  <thead>\n",
       "    <tr style=\"text-align: right;\">\n",
       "      <th></th>\n",
       "      <th>NFL</th>\n",
       "      <th>NBA</th>\n",
       "      <th>NHL</th>\n",
       "      <th>MLB</th>\n",
       "    </tr>\n",
       "  </thead>\n",
       "  <tbody>\n",
       "    <tr>\n",
       "      <th>NFL</th>\n",
       "      <td>NaN</td>\n",
       "      <td>0.941792</td>\n",
       "      <td>0.030959</td>\n",
       "      <td>0.802384</td>\n",
       "    </tr>\n",
       "    <tr>\n",
       "      <th>NBA</th>\n",
       "      <td>0.941792</td>\n",
       "      <td>NaN</td>\n",
       "      <td>0.022316</td>\n",
       "      <td>0.951046</td>\n",
       "    </tr>\n",
       "    <tr>\n",
       "      <th>NHL</th>\n",
       "      <td>0.030959</td>\n",
       "      <td>0.022316</td>\n",
       "      <td>NaN</td>\n",
       "      <td>0.000712</td>\n",
       "    </tr>\n",
       "    <tr>\n",
       "      <th>MLB</th>\n",
       "      <td>0.802384</td>\n",
       "      <td>0.951046</td>\n",
       "      <td>0.000712</td>\n",
       "      <td>NaN</td>\n",
       "    </tr>\n",
       "  </tbody>\n",
       "</table>\n",
       "</div>"
      ],
      "text/plain": [
       "          NFL       NBA       NHL       MLB\n",
       "NFL       NaN  0.941792  0.030959  0.802384\n",
       "NBA  0.941792       NaN  0.022316  0.951046\n",
       "NHL  0.030959  0.022316       NaN  0.000712\n",
       "MLB  0.802384  0.951046  0.000712       NaN"
      ]
     },
     "execution_count": 13,
     "metadata": {},
     "output_type": "execute_result"
    }
   ],
   "source": [
    "import pandas as pd\n",
    "import numpy as np\n",
    "import scipy.stats as stats\n",
    "import re\n",
    "from scipy.stats import ttest_rel\n",
    "\n",
    "mlb_df=pd.read_csv(\"mlb.csv\")\n",
    "nhl_df=pd.read_csv(\"nhl.csv\")\n",
    "nba_df=pd.read_csv(\"nba.csv\")\n",
    "nfl_df=pd.read_csv(\"nfl.csv\")\n",
    "cities=pd.read_html(\"wikipedia_data.html\")[1]\n",
    "cities=cities.iloc[:-1,[0,3,5,6,7,8]]\n",
    "\n",
    "def sports_team_performance():\n",
    "    global new_n , final_2 , final_3 ,final_4\n",
    "    \n",
    "    \n",
    "    new       =  new_n.rename(columns = {\"ratio\": \"NHL\",\"city\":\"Metropolitan area\"})\n",
    "    f_2_final =  final_2.rename(columns ={\"ratio\":\"NBA\"})\n",
    "    final_3    =  final_3.rename(columns = {\"ratio\":\"MLB\"})\n",
    "    final_4    =  final_4.rename(columns = {\"ratio\":\"NFL\"}) \n",
    "  \n",
    "    data_df_2  =  pd.merge(new[[\"Metropolitan area\",\"NHL\"]],f_2_final[[\"Metropolitan area\",\"NBA\"]] ,how = \"outer\", \n",
    "                        on =\"Metropolitan area\")\n",
    "\n",
    "    data_df_4 = pd.merge(final_3[[\"Metropolitan area\",\"MLB\"]] ,final_4[[\"Metropolitan area\",\"NFL\"]] ,how = \"outer\",\n",
    "                         on = \"Metropolitan area\")\n",
    "\n",
    "    data_5   = pd.merge(data_df_2 , data_df_4 , how = \"outer\", on =\"Metropolitan area\") \n",
    "\n",
    "    \n",
    "\n",
    "    sports = ['NFL', 'NBA', 'NHL', 'MLB']\n",
    "    p_values = pd.DataFrame({k:np.nan for k in sports}, index=sports)\n",
    "\n",
    "    for team in sports:\n",
    "        for t in sports:\n",
    "            if team != t :\n",
    "                p_values.loc[team,t] = ttest_rel(data_5[team],data_5[t] , nan_policy = \"omit\" )[1]\n",
    "                \n",
    "                \n",
    "    return p_values\n",
    "    # YOUR CODE HERE\n",
    "    raise NotImplementedError()\n",
    "    \n",
    "    # Note: p_values is a full dataframe, so df.loc[\"NFL\",\"NBA\"] should be the same as df.loc[\"NBA\",\"NFL\"] and\n",
    "    # df.loc[\"NFL\",\"NFL\"] should return np.nan\n",
    "    #sports = ['NFL', 'NBA', 'NHL', 'MLB']\n",
    "    \n",
    "    #p_values = pd.DataFrame({k:np.nan for k in sports}, index=sports)\n",
    "    \n",
    "    assert abs(p_values.loc[\"NBA\", \"NHL\"] - 0.02) <= 1e-2, \"The NBA-NHL p-value should be around 0.02\"\n",
    "    assert abs(p_values.loc[\"MLB\", \"NFL\"] - 0.80) <= 1e-2, \"The MLB-NFL p-value should be around 0.80\"\n",
    "    \n",
    "\n",
    "sports_team_performance()"
   ]
  },
  {
   "cell_type": "code",
   "execution_count": null,
   "id": "psychological-headquarters",
   "metadata": {},
   "outputs": [],
   "source": []
  }
 ],
 "metadata": {
  "kernelspec": {
   "display_name": "Python 3",
   "language": "python",
   "name": "python3"
  },
  "language_info": {
   "codemirror_mode": {
    "name": "ipython",
    "version": 3
   },
   "file_extension": ".py",
   "mimetype": "text/x-python",
   "name": "python",
   "nbconvert_exporter": "python",
   "pygments_lexer": "ipython3",
   "version": "3.8.8"
  }
 },
 "nbformat": 4,
 "nbformat_minor": 5
}
